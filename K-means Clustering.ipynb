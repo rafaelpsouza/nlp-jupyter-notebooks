{
 "cells": [
  {
   "cell_type": "code",
   "execution_count": null,
   "metadata": {},
   "outputs": [],
   "source": [
    "import string\n",
    "import collections\n",
    "\n",
    "from nltk.corpus import stopwords\n",
    "from sklearn.cluster import KMeans\n",
    "from sklearn.feature_extraction.text import TfidfVectorizer\n",
    "import pandas as pd\n",
    "import spacy\n",
    "nlp = spacy.load('pt')"
   ]
  },
  {
   "cell_type": "markdown",
   "metadata": {},
   "source": [
    "## Text Preprocessing\n",
    "Common tasks:  \n",
    "* Tokenization\n",
    "* Removing stopwords and ponctuation\n",
    "* Stemming and/or lemmatization"
   ]
  },
  {
   "cell_type": "code",
   "execution_count": null,
   "metadata": {},
   "outputs": [],
   "source": [
    "# Stopwords and lowercase are applied at TfidfVectorizer\n",
    "def pre_process_text(text):\n",
    "    tokens = nlp(text)\n",
    "    only_alpha = list(filter(lambda x: x.is_alpha, tokens))\n",
    "    return only_alpha"
   ]
  },
  {
   "cell_type": "code",
   "execution_count": null,
   "metadata": {},
   "outputs": [],
   "source": [
    "def cluster_texts(texts, clusters=3):\n",
    "    vectorizer = TfidfVectorizer(tokenizer=pre_process_text,\n",
    "                                 stop_words=stopwords.words('portuguese'),\n",
    "                                 lowercase=True)\n",
    " \n",
    "    tfidf_model = vectorizer.fit_transform(texts)\n",
    "    km_model = KMeans(n_clusters=clusters)\n",
    "    km_model.fit(tfidf_model)\n",
    " \n",
    "    clustering = collections.defaultdict(list)\n",
    " \n",
    "    for idx, label in enumerate(km_model.labels_):\n",
    "        clustering[label].append(idx)\n",
    " \n",
    "    return clustering"
   ]
  },
  {
   "cell_type": "code",
   "execution_count": null,
   "metadata": {},
   "outputs": [],
   "source": [
    "train = pd.read_csv(\"~/corpus/menor.csv\", header=0, \\\n",
    "                    delimiter=\";\", quoting=1, quotechar='\"')\n",
    "cluster_size = 5\n",
    "\n",
    "articles = train['mensagem'].values \n",
    "clusters = cluster_texts(train['mensagem'].values, cluster_size)\n",
    "\n",
    "for i in range(cluster_size):\n",
    "    print(\"================================================================================================\")\n",
    "    print(\"Cluster número %d\" % i) \n",
    "    for j in clusters[i]:\n",
    "        print(\"- \"+articles[j])\n",
    "    print(\"================================================================================================\")"
   ]
  },
  {
   "cell_type": "code",
   "execution_count": null,
   "metadata": {},
   "outputs": [],
   "source": []
  },
  {
   "cell_type": "code",
   "execution_count": null,
   "metadata": {},
   "outputs": [],
   "source": []
  }
 ],
 "metadata": {
  "kernelspec": {
   "display_name": "Python 3",
   "language": "python",
   "name": "python3"
  },
  "language_info": {
   "codemirror_mode": {
    "name": "ipython",
    "version": 3
   },
   "file_extension": ".py",
   "mimetype": "text/x-python",
   "name": "python",
   "nbconvert_exporter": "python",
   "pygments_lexer": "ipython3",
   "version": "3.6.5"
  }
 },
 "nbformat": 4,
 "nbformat_minor": 2
}
