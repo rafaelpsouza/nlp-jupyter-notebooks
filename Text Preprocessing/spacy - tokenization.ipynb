{
 "cells": [
  {
   "cell_type": "code",
   "execution_count": null,
   "metadata": {},
   "outputs": [],
   "source": [
    "import spacy"
   ]
  },
  {
   "cell_type": "code",
   "execution_count": null,
   "metadata": {},
   "outputs": [],
   "source": [
    "nlp = spacy.load('pt') # Load do modelo pt https://spacy.io/models/pt"
   ]
  },
  {
   "cell_type": "code",
   "execution_count": null,
   "metadata": {},
   "outputs": [],
   "source": [
    "documents = ['Meu nome é Rafael', \"Eu moro no Brasil\", \"Trabalho na Ubots!\", \n",
    "             \"Meu nome é Rafael, trabalho na Ubots. Rafael mora no Brasil.\", \"Estou aprendendo NLP :)\",\n",
    "            \"Qual seu nome?\", \"Qual meu nome?\", \n",
    "             \"sou alto-astral! Ouço música no alto-falante comendo cachorro-quente!\"]"
   ]
  },
  {
   "cell_type": "markdown",
   "metadata": {},
   "source": [
    "### Tokens por palavras (inclui pontuação)"
   ]
  },
  {
   "cell_type": "code",
   "execution_count": null,
   "metadata": {},
   "outputs": [],
   "source": [
    "for i in documents:\n",
    "    doc = nlp(i)\n",
    "    print([token.text for token in doc])\n",
    "    "
   ]
  },
  {
   "cell_type": "markdown",
   "metadata": {},
   "source": [
    "### Tokenização removendo stopwords e pontuação"
   ]
  },
  {
   "cell_type": "code",
   "execution_count": null,
   "metadata": {},
   "outputs": [],
   "source": [
    "for i in documents:\n",
    "    doc = nlp(i)\n",
    "    print([token.text for token in doc if token.is_alpha and not token.is_stop])\n"
   ]
  }
 ],
 "metadata": {
  "kernelspec": {
   "display_name": "Python 3",
   "language": "python",
   "name": "python3"
  },
  "language_info": {
   "codemirror_mode": {
    "name": "ipython",
    "version": 3
   },
   "file_extension": ".py",
   "mimetype": "text/x-python",
   "name": "python",
   "nbconvert_exporter": "python",
   "pygments_lexer": "ipython3",
   "version": "3.6.5"
  }
 },
 "nbformat": 4,
 "nbformat_minor": 2
}
