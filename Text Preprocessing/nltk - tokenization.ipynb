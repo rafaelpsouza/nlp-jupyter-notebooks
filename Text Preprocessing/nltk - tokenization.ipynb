{
 "cells": [
  {
   "cell_type": "code",
   "execution_count": null,
   "metadata": {},
   "outputs": [],
   "source": [
    "import nltk\n",
    "from nltk import tokenize\n",
    "from nltk.corpus import stopwords\n",
    "from string import punctuation"
   ]
  },
  {
   "cell_type": "code",
   "execution_count": null,
   "metadata": {},
   "outputs": [],
   "source": [
    "documents = ['Meu nome é Rafael', \"Eu moro no Brasil\", \"Trabalho na Ubots!\", \n",
    "             \"Meu nome é Rafael, trabalho na Ubots. Rafael mora no Brasil.\", \"Estou aprendendo NLP :)\",\n",
    "            \"Qual seu nome?\", \"Qual meu nome?\", \n",
    "             \"sou alto-astral! Ouço música no alto-falante comendo cachorro-quente!\"]"
   ]
  },
  {
   "cell_type": "markdown",
   "metadata": {},
   "source": [
    "### Tokens por palavras (inclui pontuação)"
   ]
  },
  {
   "cell_type": "code",
   "execution_count": null,
   "metadata": {},
   "outputs": [],
   "source": [
    "for i in documents:\n",
    "    print(tokenize.word_tokenize(i, language='portuguese'))"
   ]
  },
  {
   "cell_type": "markdown",
   "metadata": {},
   "source": [
    "### Set com stopwords + pontuação"
   ]
  },
  {
   "cell_type": "code",
   "execution_count": null,
   "metadata": {},
   "outputs": [],
   "source": [
    "stopwords_punctuation = set(stopwords.words('portuguese') + list(punctuation))\n",
    "stopwords_punctuation"
   ]
  },
  {
   "cell_type": "markdown",
   "metadata": {},
   "source": [
    "### Tokenização removendo stopwords e pontuação"
   ]
  },
  {
   "cell_type": "code",
   "execution_count": null,
   "metadata": {},
   "outputs": [],
   "source": [
    "for i in documents:\n",
    "    tokens = [token for token in tokenize.word_tokenize(i, language='portuguese') if token not in stopwords_punctuation]\n",
    "    print(tokens)"
   ]
  },
  {
   "cell_type": "code",
   "execution_count": null,
   "metadata": {},
   "outputs": [],
   "source": []
  }
 ],
 "metadata": {
  "kernelspec": {
   "display_name": "Python 3",
   "language": "python",
   "name": "python3"
  },
  "language_info": {
   "codemirror_mode": {
    "name": "ipython",
    "version": 3
   },
   "file_extension": ".py",
   "mimetype": "text/x-python",
   "name": "python",
   "nbconvert_exporter": "python",
   "pygments_lexer": "ipython3",
   "version": "3.6.5"
  }
 },
 "nbformat": 4,
 "nbformat_minor": 2
}
